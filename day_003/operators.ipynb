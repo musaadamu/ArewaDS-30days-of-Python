{
 "cells": [
  {
   "cell_type": "code",
   "execution_count": null,
   "metadata": {},
   "outputs": [],
   "source": [
    "age = 30"
   ]
  },
  {
   "cell_type": "code",
   "execution_count": null,
   "metadata": {},
   "outputs": [],
   "source": [
    "height = 17.5"
   ]
  },
  {
   "cell_type": "code",
   "execution_count": null,
   "metadata": {},
   "outputs": [],
   "source": [
    "num_complex = 3 + 34j"
   ]
  },
  {
   "cell_type": "code",
   "execution_count": null,
   "metadata": {},
   "outputs": [],
   "source": [
    "b = int(input('Enter the base of the triangle: '))\n",
    "h = int(input('Enter the height of the triangle: '))\n",
    "area = 0.5 * b * h"
   ]
  },
  {
   "cell_type": "code",
   "execution_count": null,
   "metadata": {},
   "outputs": [],
   "source": [
    "a = int(input('Enter side a of the triangle: '))\n",
    "b = int(input('Enter side b of the triangle: '))\n",
    "c = int(input('Enter side c of the triangle: '))\n",
    "perimeter = a + b + c"
   ]
  },
  {
   "cell_type": "code",
   "execution_count": null,
   "metadata": {},
   "outputs": [],
   "source": [
    "length = int(input('Enter the length of the rectangle: '))\n",
    "width = int(input('Enter the width of the rectangle: '))\n",
    "area = length * width"
   ]
  },
  {
   "cell_type": "code",
   "execution_count": null,
   "metadata": {},
   "outputs": [],
   "source": [
    "r = int(input('Enter the radius of a circle'))\n",
    "pi = 3.14\n",
    "area = pi * r * r\n",
    "circumference = 2 * pi * r"
   ]
  },
  {
   "cell_type": "code",
   "execution_count": null,
   "metadata": {},
   "outputs": [],
   "source": [
    "a,b,p,q=map(int,input('Enter the coordinates of the points:').split())\n",
    "\n",
    "slope2=m=(q-b)/(p-a)\n",
    "y=b\n",
    "x=a\n",
    "c=y-(m*x)\n"
   ]
  },
  {
   "cell_type": "code",
   "execution_count": null,
   "metadata": {},
   "outputs": [],
   "source": [
    "y=0\n",
    "x=(y-c)/m\n",
    "print('x-intercept of the line:',x)"
   ]
  },
  {
   "cell_type": "code",
   "execution_count": null,
   "metadata": {},
   "outputs": [],
   "source": [
    "x=0\n",
    "y=(m*x)+c\n",
    "print('y-intercept of the line:',y)"
   ]
  },
  {
   "cell_type": "code",
   "execution_count": null,
   "metadata": {},
   "outputs": [],
   "source": [
    "import math\n",
    "p1 = [2, 2]\n",
    "p2 = [6, 10]\n",
    "slope2 = (10-2)/6-2\n",
    "# The formula computes the Euclidean distance in a 2D space.\n",
    "distance = math.sqrt(((p1[0] - p2[0]) ** 2) + ((p1[1] - p2[1]) ** 2))\n"
   ]
  },
  {
   "cell_type": "code",
   "execution_count": null,
   "metadata": {},
   "outputs": [],
   "source": [
    "m1 <= m2"
   ]
  },
  {
   "cell_type": "code",
   "execution_count": null,
   "metadata": {},
   "outputs": [],
   "source": [
    "y = x**2 + 6*2 + 9 \n",
    "y = x**2 + 6*4 + 9 \n",
    "y = x**2 + 6*8 + 9 \n",
    "y = x**2 + 6*12 + 9 \n",
    "y = x**2 + 6*-2 + 9 "
   ]
  },
  {
   "cell_type": "code",
   "execution_count": null,
   "metadata": {},
   "outputs": [],
   "source": [
    "p_length = 40\n",
    "d_length = 30\n",
    "if p_length<= d_length:\n",
    "\tprint(\"True\")\n",
    "else:\n",
    "\tprint(\"False\")\n"
   ]
  },
  {
   "cell_type": "code",
   "execution_count": null,
   "metadata": {},
   "outputs": [],
   "source": [
    "if python == 1 and dragon == 1 :\n",
    "    Print('The ariables are on')\n",
    "else:\n",
    "    print('The variables are of')\n"
   ]
  },
  {
   "cell_type": "code",
   "execution_count": null,
   "metadata": {},
   "outputs": [],
   "source": [
    "if (jargon): \n",
    "    pass"
   ]
  },
  {
   "cell_type": "code",
   "execution_count": null,
   "metadata": {},
   "outputs": [],
   "source": [
    "if not(python == 1 and dragon == 1):\n",
    "    pass"
   ]
  },
  {
   "cell_type": "code",
   "execution_count": null,
   "metadata": {},
   "outputs": [],
   "source": [
    "_python = len(python)\n",
    "float_python = float(_python)\n",
    "str_python = str(float_python)\n"
   ]
  },
  {
   "cell_type": "code",
   "execution_count": null,
   "metadata": {},
   "outputs": [],
   "source": [
    "if(n%2 == 0):\n",
    "    print('The number is even')\n",
    "else:\n",
    "    print('The number is odd')\n",
    "    "
   ]
  },
  {
   "cell_type": "code",
   "execution_count": null,
   "metadata": {},
   "outputs": [],
   "source": [
    "if(7//3 == 2.7):\n",
    "    print('The result equals to 2.7')\n",
    "else:\n",
    "    print('The value is not equal to 2.7')"
   ]
  },
  {
   "cell_type": "code",
   "execution_count": null,
   "metadata": {},
   "outputs": [],
   "source": [
    "if(type(10) == type('10')):\n",
    "    print('The numbers are the same')\n",
    "else:\n",
    "    print('The numbers are not the same')"
   ]
  },
  {
   "cell_type": "code",
   "execution_count": null,
   "metadata": {},
   "outputs": [],
   "source": [
    "if int('9.8'== 10):\n",
    "    print('The numbers are the same')\n",
    "else:\n",
    "    print('The numbers are not the same')"
   ]
  },
  {
   "cell_type": "code",
   "execution_count": null,
   "metadata": {},
   "outputs": [],
   "source": [
    "rs=input(\"Enter Hour:\")\n",
    "rate=input(\"Eenter Rate per Hour:\")\n",
    "pay=float(hrs)*float(rate)\n",
    "print(\"Pay:\", pay)"
   ]
  },
  {
   "cell_type": "code",
   "execution_count": null,
   "metadata": {},
   "outputs": [],
   "source": [
    "y = float(input(\"How many years? \"))\n",
    "number_of_seconds_100 = y * 365 * 24 * 60 * 60\n",
    "print(number_of_seconds_100, \"Number of Seconds per 100 Years: \")"
   ]
  },
  {
   "cell_type": "code",
   "execution_count": null,
   "metadata": {},
   "outputs": [],
   "source": [
    "[[i^j for j in range(1,4)] for i in range(6)]\n"
   ]
  }
 ],
 "metadata": {
  "kernelspec": {
   "display_name": "anprsys",
   "language": "python",
   "name": "python3"
  },
  "language_info": {
   "name": "python",
   "version": "3.10.2"
  }
 },
 "nbformat": 4,
 "nbformat_minor": 2
}
