{
 "cells": [
  {
   "cell_type": "code",
   "execution_count": 1,
   "metadata": {},
   "outputs": [],
   "source": [
    "# 1. Declare an empty list\n",
    "lst = []\n",
    "lst = list()"
   ]
  },
  {
   "cell_type": "code",
   "execution_count": 5,
   "metadata": {},
   "outputs": [],
   "source": [
    "# 2. Declare a list with more than 5 items\n",
    "lsts = ['it', 'interesting', 'learning', 'python', 1, 2, 3, 4, 'and', 5, 'days', 'now']"
   ]
  },
  {
   "cell_type": "code",
   "execution_count": 7,
   "metadata": {},
   "outputs": [
    {
     "data": {
      "text/plain": [
       "12"
      ]
     },
     "execution_count": 7,
     "metadata": {},
     "output_type": "execute_result"
    }
   ],
   "source": [
    "# 3. Find the length of your list\n",
    "len(lsts)"
   ]
  },
  {
   "cell_type": "code",
   "execution_count": 9,
   "metadata": {},
   "outputs": [
    {
     "name": "stdout",
     "output_type": "stream",
     "text": [
      "12\n",
      "it\n",
      "3\n",
      "4\n",
      "now\n"
     ]
    }
   ],
   "source": [
    "# 4. Get the first item, the middle item and the last item of the list\n",
    "print(len(lsts))\n",
    "print(lsts[0])\n",
    "print(lsts[6])\n",
    "print(lsts[7])\n",
    "print(lsts[-1])"
   ]
  },
  {
   "cell_type": "code",
   "execution_count": null,
   "metadata": {},
   "outputs": [],
   "source": [
    "# 5. Declare a list called mixed_data_types, put your(name, age, height, marital status, address)\n",
    "mixed_data_types = ['musa', '30', '17', 'married', 'potiskum']"
   ]
  }
 ],
 "metadata": {
  "kernelspec": {
   "display_name": "anprsys",
   "language": "python",
   "name": "python3"
  },
  "language_info": {
   "codemirror_mode": {
    "name": "ipython",
    "version": 3
   },
   "file_extension": ".py",
   "mimetype": "text/x-python",
   "name": "python",
   "nbconvert_exporter": "python",
   "pygments_lexer": "ipython3",
   "version": "3.10.2"
  }
 },
 "nbformat": 4,
 "nbformat_minor": 2
}
