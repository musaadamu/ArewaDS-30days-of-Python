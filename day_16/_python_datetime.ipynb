{
 "cells": [
  {
   "cell_type": "code",
   "execution_count": 1,
   "metadata": {},
   "outputs": [
    {
     "name": "stdout",
     "output_type": "stream",
     "text": [
      "Current Date and Time:\n",
      "Day: 6\n",
      "Month: 12\n",
      "Year: 2023\n",
      "Hour: 11\n",
      "Minute: 26\n",
      "Timestamp: 1701858362.991305\n"
     ]
    }
   ],
   "source": [
    "# Get the current day, month, year, hour, minute and timestamp from datetime module\n",
    "from datetime import datetime\n",
    "\n",
    "# Get the current date and time\n",
    "current_datetime = datetime.now()\n",
    "# Extract day, month, year, hour, and minute from the current date and time\n",
    "current_day = current_datetime.day\n",
    "current_month = current_datetime.month\n",
    "current_year = current_datetime.year\n",
    "current_hour = current_datetime.hour\n",
    "current_minute = current_datetime.minute\n",
    "# Get the timestamp from the current date and time\n",
    "timestamp = current_datetime.timestamp()\n",
    "print(\"Current Date and Time:\")\n",
    "print(f\"Day: {current_day}\")\n",
    "print(f\"Month: {current_month}\")\n",
    "print(f\"Year: {current_year}\")\n",
    "print(f\"Hour: {current_hour}\")\n",
    "print(f\"Minute: {current_minute}\")\n",
    "print(f\"Timestamp: {timestamp}\")\n"
   ]
  },
  {
   "cell_type": "code",
   "execution_count": 2,
   "metadata": {},
   "outputs": [
    {
     "name": "stdout",
     "output_type": "stream",
     "text": [
      "Formatted Current Date and Time:\n",
      "12/06/2023, 11:28:28\n"
     ]
    }
   ],
   "source": [
    "# Format the current date using this format: \"%m/%d/%Y, %H:%M:%S\"\n",
    "from datetime import datetime\n",
    "\n",
    "# Get the current date and time\n",
    "current_datetime = datetime.now()\n",
    "\n",
    "# Format the current date using the specified format\n",
    "formatted_date = current_datetime.strftime(\"%m/%d/%Y, %H:%M:%S\")\n",
    "\n",
    "print(\"Formatted Current Date and Time:\")\n",
    "print(formatted_date)"
   ]
  },
  {
   "cell_type": "code",
   "execution_count": 3,
   "metadata": {},
   "outputs": [
    {
     "name": "stdout",
     "output_type": "stream",
     "text": [
      "Converted Time:\n",
      "2019-12-05 00:00:00\n"
     ]
    }
   ],
   "source": [
    "# Today is 5 December, 2019. Change this time string to time.\n",
    "from datetime import datetime\n",
    "\n",
    "# Input time string\n",
    "time_string = \"5 December, 2019\"\n",
    "\n",
    "# Convert time string to datetime object\n",
    "time = datetime.strptime(time_string, \"%d %B, %Y\")\n",
    "\n",
    "print(\"Converted Time:\")\n",
    "print(time)"
   ]
  },
  {
   "cell_type": "code",
   "execution_count": 4,
   "metadata": {},
   "outputs": [
    {
     "name": "stdout",
     "output_type": "stream",
     "text": [
      "Time Difference until New Year:\n",
      "25 days, 12:28:51.429130\n"
     ]
    }
   ],
   "source": [
    "# Calculate the time difference between now and new year.\n",
    "from datetime import datetime\n",
    "\n",
    "# Get the current date and time\n",
    "current_datetime = datetime.now()\n",
    "\n",
    "# Get the upcoming New Year\n",
    "new_year = datetime(current_datetime.year + 1, 1, 1)\n",
    "\n",
    "# Calculate the time difference\n",
    "time_difference = new_year - current_datetime\n",
    "\n",
    "print(\"Time Difference until New Year:\")\n",
    "print(time_difference)"
   ]
  },
  {
   "cell_type": "code",
   "execution_count": 5,
   "metadata": {},
   "outputs": [
    {
     "name": "stdout",
     "output_type": "stream",
     "text": [
      "Time Difference since Unix Epoch:\n",
      "19697 days, 11:32:36.535777\n"
     ]
    }
   ],
   "source": [
    "# Calculate the time difference between 1 January 1970 and now.\n",
    "from datetime import datetime\n",
    "\n",
    "# Get the current date and time\n",
    "current_datetime = datetime.now()\n",
    "\n",
    "# Define the Unix epoch (January 1, 1970)\n",
    "epoch = datetime(1970, 1, 1)\n",
    "\n",
    "# Calculate the time difference\n",
    "time_difference = current_datetime - epoch\n",
    "\n",
    "print(\"Time Difference since Unix Epoch:\")\n",
    "print(time_difference)"
   ]
  },
  {
   "cell_type": "markdown",
   "metadata": {},
   "source": [
    "\"\"\"\n",
    "The datetime module in Python provides various functionalities for working with dates, times, and time intervals. Here are some examples of what you can use the datetime module for:\n",
    "Date and Time Manipulation: perform operations like adding or subtracting time intervals, extracting specific components of a date or time, comparing dates, and formatting dates for display.\n",
    "1. Time Series Analysis: provides methods for parsing and formatting timestamps, calculating time differences, and performing arithmetic operations on time series data.\n",
    "2. Timestamping Activities: useful for tracking events, logging activities, or measuring the duration of specific operations.\n",
    "3. Scheduling and Timers:  check the current time, compare it with a scheduled time, and trigger actions accordingly.\n",
    "4. File Timestamps: retrieving the creation or modification time of a file, and manipulating or comparing these timestamps.\n",
    "5. Date Arithmetic: add or subtract time intervals, calculate time differences, and perform various calculations involving dates and times.\n",
    "6. Event Scheduling: set up recurring events, handle time-based triggers, and manage event-driven workflows.\n",
    "7. Data Recording and Logging: enables accurate time tracking and helps in organizing and analyzing recorded data based on time.\n",
    "\n",
    "\"\"\""
   ]
  }
 ],
 "metadata": {
  "kernelspec": {
   "display_name": "anprsys",
   "language": "python",
   "name": "python3"
  },
  "language_info": {
   "codemirror_mode": {
    "name": "ipython",
    "version": 3
   },
   "file_extension": ".py",
   "mimetype": "text/x-python",
   "name": "python",
   "nbconvert_exporter": "python",
   "pygments_lexer": "ipython3",
   "version": "3.10.2"
  }
 },
 "nbformat": 4,
 "nbformat_minor": 2
}
