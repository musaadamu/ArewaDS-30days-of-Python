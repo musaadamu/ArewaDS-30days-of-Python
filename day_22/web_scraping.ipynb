{
 "cells": [
  {
   "cell_type": "code",
   "execution_count": 9,
   "metadata": {},
   "outputs": [
    {
     "name": "stdout",
     "output_type": "stream",
     "text": [
      "<Response [200]>\n",
      "Data scraped and saved as bu_facts_stats.json\n"
     ]
    }
   ],
   "source": [
    "\"\"\"\n",
    "import requests\n",
    "from bs4 import BeautifulSoup\n",
    "import json\n",
    "\n",
    "# Send a GET request to the website\n",
    "url = 'http://www.bu.edu/president/boston-university-facts-stats/'\n",
    "response = requests.get(url)\n",
    "\n",
    "# Parse the HTML content using BeautifulSoup\n",
    "soup = BeautifulSoup(response.content, 'html.parser')\n",
    "\n",
    "# Find the section containing the facts and stats\n",
    "facts_stats_section = soup.find('section', class_='facts-stats')\n",
    "\n",
    "# Extract the data from the section\n",
    "data = {}\n",
    "for row in facts_stats_section.find_all('div', class_='row'):\n",
    "    key = row.find('div', class_='col-md-4').text.strip()\n",
    "    value = row.find('div', class_='col-md-8').text.strip()\n",
    "    data[key] = value\n",
    "\n",
    "# Save the data as a JSON file\n",
    "with open('bu_facts_stats.json', 'w') as file:\n",
    "    json.dump(data, file, indent=4)\n",
    "\n",
    "print(\"Data scraped and saved as bu_facts_stats.json\")\n",
    "\n",
    "\"\"\""
   ]
  },
  {
   "cell_type": "code",
   "execution_count": 12,
   "metadata": {},
   "outputs": [
    {
     "name": "stdout",
     "output_type": "stream",
     "text": [
      "Data scraped and saved as bu_facts_stats.json\n"
     ]
    }
   ],
   "source": [
    "\"\"\"\n",
    "import requests\n",
    "from bs4 import BeautifulSoup\n",
    "import json\n",
    "\n",
    "# Send a GET request to the website\n",
    "url = 'http://www.bu.edu/president/boston-university-facts-stats/'\n",
    "response = requests.get(url)\n",
    "\n",
    "# Parse the HTML content using BeautifulSoup\n",
    "soup = BeautifulSoup(response.content, 'html.parser')\n",
    "\n",
    "# Find the section containing the facts and stats\n",
    "facts_stats_section = soup.find('section', class_='facts-stats')\n",
    "\n",
    "# Extract the data from the section\n",
    "data = []\n",
    "categories = facts_stats_section.find_all('div', class_='col-md-4')\n",
    "values = facts_stats_section.find_all('div', class_='col-md-8')\n",
    "\n",
    "for i in range(len(categories)):\n",
    "    category = categories[i].text.strip()\n",
    "    values_list = values[i].find_all('li')\n",
    "    category_data = {\"category\": category}\n",
    "\n",
    "    for value in values_list:\n",
    "        label = value.find('strong').text.strip()\n",
    "        content = value.find('span').text.strip()\n",
    "        category_data[label] = content\n",
    "\n",
    "    data.append(category_data)\n",
    "\n",
    "# Save the data as a JSON file\n",
    "with open('bu_facts_stats.json', 'w') as file:\n",
    "    json.dump(data, file, indent=4)\n",
    "\n",
    "print(\"Data scraped and saved as bu_facts_stats.json\")\n",
    "\n",
    "\"\"\""
   ]
  },
  {
   "cell_type": "code",
   "execution_count": 10,
   "metadata": {},
   "outputs": [
    {
     "name": "stdout",
     "output_type": "stream",
     "text": [
      "Data scraped and saved as bu_facts_stats.json\n"
     ]
    }
   ],
   "source": [
    "import requests\n",
    "from bs4 import BeautifulSoup\n",
    "import json\n",
    "\n",
    "# Send a GET request to the website\n",
    "url = 'https://www.bu.edu/president/boston-university-facts-stats/'\n",
    "response = requests.get(url)\n",
    "\n",
    "# Parse the HTML content using BeautifulSoup\n",
    "soup = BeautifulSoup(response.content, 'html.parser')\n",
    "\n",
    "# Find the section containing the facts and stats\n",
    "facts_stats_section = soup.find('section', class_='facts-stats')\n",
    "\n",
    "# Extract the data from the section\n",
    "data = {}\n",
    "for row in facts_stats_section.find_all('div', class_='col-md-6'):\n",
    "    key = row.find('h2').text.strip()\n",
    "    value = row.find('p').text.strip()\n",
    "    data[key] = value\n",
    "\n",
    "# Save the data as a JSON file\n",
    "with open('bu_facts_stats.json', 'w') as file:\n",
    "    json.dump(data, file, indent=4)\n",
    "\n",
    "print(\"Data scraped and saved as bu_facts_stats.json\")"
   ]
  },
  {
   "cell_type": "code",
   "execution_count": 11,
   "metadata": {},
   "outputs": [
    {
     "name": "stdout",
     "output_type": "stream",
     "text": [
      "Data scraped and saved as presidents.json\n"
     ]
    }
   ],
   "source": [
    "import requests\n",
    "from bs4 import BeautifulSoup\n",
    "import json\n",
    "\n",
    "# Send a GET request to the Wikipedia page\n",
    "url = \"https://en.wikipedia.org/wiki/List_of_presidents_of_the_United_States\"\n",
    "response = requests.get(url)\n",
    "\n",
    "# Create a BeautifulSoup object to parse the HTML content\n",
    "soup = BeautifulSoup(response.content, \"html.parser\")\n",
    "\n",
    "# Find the presidents table by its CSS class\n",
    "table = soup.find(\"table\", class_=\"wikitable\")\n",
    "\n",
    "# Initialize an empty list to store the presidents' data\n",
    "presidents = []\n",
    "\n",
    "# Iterate over the rows of the table, skipping the header row\n",
    "for row in table.find_all(\"tr\")[1:]:\n",
    "    # Extract the data from each column\n",
    "    columns = row.find_all(\"td\")\n",
    "    number = columns[0].text.strip()\n",
    "    name = columns[1].text.strip()\n",
    "    lifespan = columns[2].text.strip()\n",
    "    term = columns[3].text.strip()\n",
    "    party = columns[4].text.strip()\n",
    "    portrait_url = columns[5].find(\"img\")[\"src\"] if columns[5].find(\"img\") else None\n",
    "\n",
    "    # Create a dictionary to store the president's data\n",
    "    president_data = {\n",
    "        \"number\": number,\n",
    "        \"name\": name,\n",
    "        \"lifespan\": lifespan,\n",
    "        \"term\": term,\n",
    "        \"party\": party,\n",
    "        \"portrait_url\": portrait_url\n",
    "    }\n",
    "\n",
    "    # Add the president's data to the list\n",
    "    presidents.append(president_data)\n",
    "\n",
    "# Convert the presidents list to JSON\n",
    "presidents_json = json.dumps(presidents, indent=4)\n",
    "\n",
    "# Save the JSON data to a file\n",
    "with open(\"presidents.json\", \"w\") as file:\n",
    "    file.write(presidents_json)\n",
    "\n",
    "print(\"Data scraped and saved as presidents.json\")"
   ]
  }
 ],
 "metadata": {
  "kernelspec": {
   "display_name": "anprsys",
   "language": "python",
   "name": "python3"
  },
  "language_info": {
   "codemirror_mode": {
    "name": "ipython",
    "version": 3
   },
   "file_extension": ".py",
   "mimetype": "text/x-python",
   "name": "python",
   "nbconvert_exporter": "python",
   "pygments_lexer": "ipython3",
   "version": "3.10.2"
  }
 },
 "nbformat": 4,
 "nbformat_minor": 2
}
