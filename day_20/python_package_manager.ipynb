{
 "cells": [
  {
   "cell_type": "code",
   "execution_count": 3,
   "metadata": {},
   "outputs": [
    {
     "name": "stdout",
     "output_type": "stream",
     "text": [
      "The 10 most frequent words:\n",
      "the - 5\n",
      "you - 4\n",
      "project - 3\n",
      "gutenberg - 3\n",
      "about - 3\n",
      "contact - 3\n",
      "of - 3\n",
      "and - 3\n",
      "help - 3\n",
      "to - 3\n"
     ]
    }
   ],
   "source": [
    "import requests\n",
    "from collections import Counter\n",
    "from bs4 import BeautifulSoup\n",
    "import re\n",
    "\n",
    "# Define the URL\n",
    "url = 'http://www.gutenberg.org/files/1112/1112.txt'\n",
    "\n",
    "# Fetch the content from the URL\n",
    "response = requests.get(url)\n",
    "content = response.content\n",
    "\n",
    "# Parse the HTML content using BeautifulSoup\n",
    "soup = BeautifulSoup(content, 'html.parser')\n",
    "\n",
    "# Extract the text from the HTML\n",
    "text = soup.get_text()\n",
    "\n",
    "# Remove non-alphabetic characters and convert to lowercase\n",
    "cleaned_text = re.sub(r'[^a-zA-Z\\s]', '', text).lower()\n",
    "\n",
    "# Split the text into words\n",
    "words = cleaned_text.split()\n",
    "\n",
    "# Count the frequency of each word\n",
    "word_counts = Counter(words)\n",
    "\n",
    "# Get the 10 most frequent words\n",
    "top_10_words = word_counts.most_common(10)\n",
    "\n",
    "# Print the results\n",
    "print(\"The 10 most frequent words:\")\n",
    "for word, count in top_10_words:\n",
    "    print(word, \"-\", count)\n"
   ]
  }
 ],
 "metadata": {
  "kernelspec": {
   "display_name": "anprsys",
   "language": "python",
   "name": "python3"
  },
  "language_info": {
   "codemirror_mode": {
    "name": "ipython",
    "version": 3
   },
   "file_extension": ".py",
   "mimetype": "text/x-python",
   "name": "python",
   "nbconvert_exporter": "python",
   "pygments_lexer": "ipython3",
   "version": "3.10.2"
  }
 },
 "nbformat": 4,
 "nbformat_minor": 2
}
