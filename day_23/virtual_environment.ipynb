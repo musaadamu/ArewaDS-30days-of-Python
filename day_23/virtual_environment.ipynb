{
 "cells": [
  {
   "cell_type": "code",
   "execution_count": null,
   "metadata": {},
   "outputs": [],
   "source": [
    "# asabeneh@Asabeneh:~/Desktop/30DaysOfPython/flask_project/$ virtualenv arewaDataScience"
   ]
  },
  {
   "cell_type": "code",
   "execution_count": null,
   "metadata": {},
   "outputs": [],
   "source": [
    "# asabeneh@Asabeneh:~/Desktop/30DaysOfPython/flask_project$ source arewaDataScienceEnv/bin/activate"
   ]
  },
  {
   "cell_type": "code",
   "execution_count": null,
   "metadata": {},
   "outputs": [],
   "source": [
    "# (venv) asabeneh@Asabeneh:~/Desktop/30DaysOfPython$ deactivate"
   ]
  }
 ],
 "metadata": {
  "language_info": {
   "name": "python"
  }
 },
 "nbformat": 4,
 "nbformat_minor": 2
}
