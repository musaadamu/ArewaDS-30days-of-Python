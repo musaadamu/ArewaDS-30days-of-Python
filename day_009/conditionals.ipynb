{
 "cells": [
  {
   "cell_type": "code",
   "execution_count": null,
   "metadata": {},
   "outputs": [],
   "source": [
    "\"\"\"  Get user input using input(“Enter your age: ”). If user is 18 or older, give feedback: You are old enough to drive. If below 18 give feedback to wait for the missing amount of years. Output:\n",
    "    ```sh\n",
    "    Enter your age: 30\n",
    "    You are old enough to learn to drive.\n",
    "    Output:\n",
    "    Enter your age: 15\n",
    "    You need 3 more years to learn to drive. \"\"\"\n",
    "user_age = int(input(\"Enter your age: \"))\n",
    "if user_age >= 18:\n",
    "    print(\"You are old enough to drive\")\n",
    "else:\n",
    "    print(\"You are {} more years to learn to drive\".format(18-user_age))"
   ]
  },
  {
   "cell_type": "code",
   "execution_count": null,
   "metadata": {},
   "outputs": [],
   "source": [
    "\"\"\"\n",
    "2.  Compare the values of my_age and your_age using if … else. Who is older (me or you)? Use input(“Enter your age: ”) \n",
    "to get the age as input. You can use a nested condition to print 'year' for 1 year difference in age, 'years' \n",
    "for bigger differences, and a custom text if my_age = your_age. Output:\n",
    "    ```sh\n",
    "    Enter your age: 30\n",
    "    You are 5 years older than me.\n",
    "    ```\n",
    "\"\"\"\n",
    "my_age = int(input(\"Enter your age: \"))\n",
    "your_age = int(input(\"Enter your age: \"))\n",
    "\n",
    "if abs(my_age - your_age) == 1:\n",
    "    print(\"You are a year older than me or I am a year older than you\")\n",
    "elif abs(my_age - your_age) > 1:\n",
    "    print(\"You are years older than me or I am years older than you\")\n",
    "else:\n",
    "    print(\"What a coincidence!\")\n",
    "\n",
    "    "
   ]
  },
  {
   "cell_type": "code",
   "execution_count": null,
   "metadata": {},
   "outputs": [],
   "source": [
    "\"\"\"\n",
    ".  Get two numbers from the user using input prompt. If a is greater than b return a is greater than b, if a is less b \n",
    "return a is smaller than b, else a is equal to b. Output:\n",
    "\n",
    "```sh\n",
    "Enter number one: 4\n",
    "Enter number two: 3\n",
    "4 is greater than 3\n",
    "```\n",
    "\"\"\"\n",
    "a = int(input(\"Enter a number: \"))\n",
    "b = int(input(\"Enter a number: \"))\n",
    "if a > b: \n",
    "    print(\"{} is greater than {}\".format(a,b))\n",
    "elif a < b:\n",
    "    print(\"{} is smaller than {}\". format(a,b))\n",
    "else:\n",
    "    print(\"{} is equal to {}\".format(a,b))"
   ]
  },
  {
   "cell_type": "markdown",
   "metadata": {},
   "source": [
    " ### Exercises: Level 2\n"
   ]
  },
  {
   "cell_type": "code",
   "execution_count": 29,
   "metadata": {},
   "outputs": [],
   "source": [
    "\"\"\"\n",
    "1. Write a code which gives grade to students according to theirs scores:\n",
    "   \n",
    "        ```sh\n",
    "        80-100, A\n",
    "        70-89, B\n",
    "        60-69, C\n",
    "        50-59, D\n",
    "        0-49, F\n",
    "        ```\n",
    "\"\"\"\n",
    "scores = int(input(\"Enter your scores: \"))\n",
    "\n",
    "if scores >= 80:\n",
    "    print(\"You scored A\")\n",
    "elif 70 <= scores < 80:\n",
    "    print(\"You scored B\")\n",
    "elif 60 <= scores < 70:\n",
    "    print(\"You scored C\")\n",
    "elif 50 <= scores < 60:\n",
    "    print(\"You scored D\")\n",
    "else:\n",
    "    print(\"You scored F\")"
   ]
  },
  {
   "cell_type": "code",
   "execution_count": null,
   "metadata": {},
   "outputs": [],
   "source": [
    "\"\"\" 1. Check if the season is Autumn, Winter, Spring or Summer. If the user input is:\n",
    "    September, October or November, the season is Autumn.\n",
    "    December, January or February, the season is Winter.\n",
    "    March, April or May, the season is Spring\n",
    "    June, July or August, the season is Summer\n",
    "\"\"\"\n",
    "user_input = input(\"Enter the month of the season: \")\n",
    "\n",
    "if user_input == \"September\" or user_input == \"October\" or user_input == \"November\":\n",
    "    print(\"The season is Autumn\")\n",
    "elif user_input == \"December\" or user_input == \"January\" or user_input == \"February\":\n",
    "    print(\"The season is Winter\")\n",
    "elif user_input == \"March\" or user_input == \"April\" or user_input == \"May\":\n",
    "    print(\"The season is Spring\")\n",
    "else:\n",
    "    print(\"The season is Summer\")\n"
   ]
  },
  {
   "cell_type": "code",
   "execution_count": null,
   "metadata": {},
   "outputs": [],
   "source": [
    "\"\"\"\n",
    "2.  The following list contains some fruits:\n",
    "    ```sh\n",
    "    fruits = ['banana', 'orange', 'mango', 'lemon']\n",
    "    ```\n",
    "    If a fruit doesn't exist in the list add the fruit to the list and print the modified list. \n",
    "    If the fruit exists print('That fruit already exist in the list') \n",
    "\"\"\"\n",
    "fruits_name = input(\"Enter a fruit name: \")\n",
    "fruits = {\"apple\", \"banana\", \"orange\"}\n",
    "\n",
    "if fruits_name not in fruits:\n",
    "    fruits.add(fruits_name)\n",
    "    print(fruits)\n",
    "else:\n",
    "    print(\"That fruit already exists in the list\")"
   ]
  },
  {
   "cell_type": "markdown",
   "metadata": {},
   "source": [
    "### Exercises: Level 3"
   ]
  },
  {
   "cell_type": "code",
   "execution_count": 17,
   "metadata": {},
   "outputs": [
    {
     "name": "stdout",
     "output_type": "stream",
     "text": [
      "Node\n"
     ]
    }
   ],
   "source": [
    "# Check if the person dictionary has skills key, if so print out the middle skill in the skills list.\n",
    "   \n",
    "person = {\n",
    "    'first_name': 'Asabeneh',\n",
    "    'last_name': 'Yetayeh',\n",
    "    'age': 250,\n",
    "    'country': 'Finland',\n",
    "    'is_married': True,\n",
    "    'skills': ['JavaScript', 'React', 'Node', 'MongoDB', 'Python'],\n",
    "    'address': {\n",
    "        'street': 'Space street',\n",
    "        'zipcode': '02210'\n",
    "    }\n",
    "}\n",
    "\n",
    "if 'skills' in person:\n",
    "    print(person['skills'][2])"
   ]
  },
  {
   "cell_type": "code",
   "execution_count": 20,
   "metadata": {},
   "outputs": [
    {
     "name": "stdout",
     "output_type": "stream",
     "text": [
      "The person has python skills\n"
     ]
    }
   ],
   "source": [
    "# Check if the person dictionary has skills key, if so check if the person has 'Python' skill and print out the result.\n",
    "\n",
    "if 'skills' in person:\n",
    "    if 'Python' in person['skills']:\n",
    "        print('The person has python skills')\n",
    "    else: \n",
    "        print('The person lacks python skills')\n",
    "  "
   ]
  },
  {
   "cell_type": "code",
   "execution_count": 24,
   "metadata": {},
   "outputs": [
    {
     "name": "stdout",
     "output_type": "stream",
     "text": [
      "He is a front end developer\n"
     ]
    }
   ],
   "source": [
    "\"\"\"\n",
    "If a person skills has only JavaScript and React, print('He is a front end developer'), \n",
    "if the person skills has Node, Python, MongoDB, print('He is a backend developer'), if the person skills \n",
    "has React, Node and MongoDB, Print('He is a fullstack developer'), else print('unknown title') - \n",
    "for more accurate results more conditions can be nested!\n",
    "\"\"\"\n",
    "if 'skills' in person:\n",
    "    if 'Python' in person['skills'] and 'React' in person['skills']:\n",
    "        print('He is a front end developer')\n",
    "    elif 'Node' in person['skills'] and 'Python' in person['skills'] and 'MongoDB' in person['skills']:\n",
    "        print('He is a backend developer')\n",
    "    elif 'Node' in person['skills'] and 'React' in person['skills'] and 'MongoDB' in person['skills']:\n",
    "        print('He has skills in both front end and backend')\n",
    "    else:\n",
    "        print('Unknown title')"
   ]
  },
  {
   "cell_type": "code",
   "execution_count": 28,
   "metadata": {},
   "outputs": [
    {
     "name": "stdout",
     "output_type": "stream",
     "text": [
      "Asabeneh Yetayeh lives in Finland. He is married\n"
     ]
    }
   ],
   "source": [
    "# If the person is married and if he lives in Finland, print the information in the following format:\n",
    "#  Asabeneh Yetayeh lives in Finland. He is married.\n",
    "if person['country'] == 'Finland' and person['is_married'] == True:\n",
    "    print('{} {} lives in Finland. He is married'.format(person['first_name'], person['last_name']))"
   ]
  }
 ],
 "metadata": {
  "kernelspec": {
   "display_name": "anprsys",
   "language": "python",
   "name": "python3"
  },
  "language_info": {
   "codemirror_mode": {
    "name": "ipython",
    "version": 3
   },
   "file_extension": ".py",
   "mimetype": "text/x-python",
   "name": "python",
   "nbconvert_exporter": "python",
   "pygments_lexer": "ipython3",
   "version": "3.10.2"
  }
 },
 "nbformat": 4,
 "nbformat_minor": 2
}
