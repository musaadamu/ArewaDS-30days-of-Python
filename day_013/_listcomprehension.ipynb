{
 "cells": [
  {
   "cell_type": "code",
   "execution_count": 2,
   "metadata": {},
   "outputs": [
    {
     "name": "stdout",
     "output_type": "stream",
     "text": [
      "[-4, -3, -2, -1, 0]\n"
     ]
    }
   ],
   "source": [
    "numbers = [-4, -3, -2, -1, 0, 2, 4, 6]\n",
    "filtered_numbers = [num for num in numbers if num <= 0]\n",
    "\n",
    "print(filtered_numbers)"
   ]
  },
  {
   "cell_type": "code",
   "execution_count": 4,
   "metadata": {},
   "outputs": [
    {
     "name": "stdout",
     "output_type": "stream",
     "text": [
      "[1, 2, 3, 4, 5, 6, 7, 8, 9]\n"
     ]
    }
   ],
   "source": [
    "\"\"\"\n",
    "2. Flatten the following list of lists of lists to a one dimensional list :\n",
    "\n",
    "   ```py\n",
    "   list_of_lists =[[[1, 2, 3]], [[4, 5, 6]], [[7, 8, 9]]]\n",
    "\n",
    "   output\n",
    "   [1, 2, 3, 4, 5, 6, 7, 8, 9]\n",
    "   ```\n",
    "\"\"\"\n",
    "list_of_lists = [[[1, 2, 3]], [[4, 5, 6]], [[7, 8, 9]]]\n",
    "\n",
    "flattened_list = [num for sublist in list_of_lists for inner_list in sublist for num in inner_list]\n",
    "\n",
    "print(flattened_list)"
   ]
  },
  {
   "cell_type": "code",
   "execution_count": 5,
   "metadata": {},
   "outputs": [
    {
     "name": "stdout",
     "output_type": "stream",
     "text": [
      "[(0, 1, 0, 0, 0, 0, 0), (1, 1, 1, 1, 1, 1, 1), (2, 1, 2, 4, 8, 16, 32), (3, 1, 3, 9, 27, 81, 243), (4, 1, 4, 16, 64, 256, 1024), (5, 1, 5, 25, 125, 625, 3125), (6, 1, 6, 36, 216, 1296, 7776), (7, 1, 7, 49, 343, 2401, 16807), (8, 1, 8, 64, 512, 4096, 32768), (9, 1, 9, 81, 729, 6561, 59049), (10, 1, 10, 100, 1000, 10000, 100000)]\n"
     ]
    }
   ],
   "source": [
    "\"\"\"\n",
    "3. Using list comprehension create the following list of tuples:\n",
    "   ```py\n",
    "   [(0, 1, 0, 0, 0, 0, 0),\n",
    "   (1, 1, 1, 1, 1, 1, 1),\n",
    "   (2, 1, 2, 4, 8, 16, 32),\n",
    "   (3, 1, 3, 9, 27, 81, 243),\n",
    "   (4, 1, 4, 16, 64, 256, 1024),\n",
    "   (5, 1, 5, 25, 125, 625, 3125),\n",
    "   (6, 1, 6, 36, 216, 1296, 7776),\n",
    "   (7, 1, 7, 49, 343, 2401, 16807),\n",
    "   (8, 1, 8, 64, 512, 4096, 32768),\n",
    "   (9, 1, 9, 81, 729, 6561, 59049),\n",
    "   (10, 1, 10, 100, 1000, 10000, 100000)]\n",
    "   ```\n",
    "\"\"\"\n",
    "result = [(i, 1, i, i**2, i**3, i**4, i**5) for i in range(11)]\n",
    "\n",
    "print(result)"
   ]
  },
  {
   "cell_type": "code",
   "execution_count": 8,
   "metadata": {},
   "outputs": [
    {
     "name": "stdout",
     "output_type": "stream",
     "text": [
      "[('Finland', 'Helsinki'), ('Sweden', 'Stockholm'), ('Norway', 'Oslo')]\n"
     ]
    }
   ],
   "source": [
    "\"\"\"\n",
    "4. Flatten the following list to a new list:\n",
    "   ```py\n",
    "   countries = [[('Finland', 'Helsinki')], [('Sweden', 'Stockholm')], [('Norway', 'Oslo')]]\n",
    "   output:\n",
    "   [['FINLAND','FIN', 'HELSINKI'], ['SWEDEN', 'SWE', 'STOCKHOLM'], ['NORWAY', 'NOR', 'OSLO']]\n",
    "   ```\n",
    "\"\"\"\n",
    "countries = [[('Finland', 'Helsinki')], [('Sweden', 'Stockholm')], [('Norway', 'Oslo')]]\n",
    "\n",
    "flattened_list = [item for sublist in countries for item in sublist]\n",
    "\n",
    "print(flattened_list)"
   ]
  },
  {
   "cell_type": "code",
   "execution_count": 13,
   "metadata": {},
   "outputs": [
    {
     "name": "stdout",
     "output_type": "stream",
     "text": [
      "[{'country': 'Finland', 'city': 'Helsinki'}, {'country': 'Sweden', 'city': 'Stockholm'}, {'country': 'Norway', 'city': 'Oslo'}]\n"
     ]
    }
   ],
   "source": [
    "\"\"\"\n",
    "5. Change the following list to a list of dictionaries:\n",
    "   ```py\n",
    "   countries = [[('Finland', 'Helsinki')], [('Sweden', 'Stockholm')], [('Norway', 'Oslo')]]\n",
    "   output:\n",
    "   [{'country': 'FINLAND', 'city': 'HELSINKI'},\n",
    "   {'country': 'SWEDEN', 'city': 'STOCKHOLM'},\n",
    "   {'country': 'NORWAY', 'city': 'OSLO'}]\n",
    "\"\"\"\n",
    "countries = [[('Finland', 'Helsinki')], [('Sweden', 'Stockholm')], [('Norway', 'Oslo')]]\n",
    "\n",
    "list_of_dicts = [\n",
    "    {'country': country, 'city': city}\n",
    "    for sublist in countries\n",
    "    for country, city in sublist\n",
    "]\n",
    "\n",
    "print(list_of_dicts)"
   ]
  },
  {
   "cell_type": "code",
   "execution_count": 14,
   "metadata": {},
   "outputs": [
    {
     "name": "stdout",
     "output_type": "stream",
     "text": [
      "['Finland - Helsinki', 'Sweden - Stockholm', 'Norway - Oslo']\n"
     ]
    }
   ],
   "source": [
    "\"\"\"\n",
    "6. Change the following list of lists to a list of concatenated strings:\n",
    "   ```py\n",
    "   names = [[('Asabeneh', 'Yetayeh')], [('David', 'Smith')], [('Donald', 'Trump')], [('Bill', 'Gates')]]\n",
    "   output\n",
    "   ['Asabeneh Yetaeyeh', 'David Smith', 'Donald Trump', 'Bill Gates']\n",
    "   ```\n",
    "\"\"\"\n",
    "countries = [[('Finland', 'Helsinki')], [('Sweden', 'Stockholm')], [('Norway', 'Oslo')]]\n",
    "\n",
    "concatenated_strings = [' - '.join(country) for sublist in countries for country in sublist]\n",
    "\n",
    "print(concatenated_strings)"
   ]
  },
  {
   "cell_type": "code",
   "execution_count": 15,
   "metadata": {},
   "outputs": [
    {
     "name": "stdout",
     "output_type": "stream",
     "text": [
      "Slope: 7\n",
      "Y-intercept: 1\n"
     ]
    }
   ],
   "source": [
    "# 7. Write a lambda function which can solve a slope or y-intercept of linear functions.\n",
    "linear_function = lambda x, m, b: m*x + b\n",
    "\n",
    "slope = linear_function(2, 3, 1)  # solve for the slope at x = 2, m = 3, b = 1\n",
    "y_intercept = linear_function(0, 3, 1)  # solve for the y-intercept at x = 0, m = 3, b = 1\n",
    "\n",
    "print(\"Slope:\", slope)\n",
    "print(\"Y-intercept:\", y_intercept)\n",
    "\n"
   ]
  }
 ],
 "metadata": {
  "kernelspec": {
   "display_name": "anprsys",
   "language": "python",
   "name": "python3"
  },
  "language_info": {
   "codemirror_mode": {
    "name": "ipython",
    "version": 3
   },
   "file_extension": ".py",
   "mimetype": "text/x-python",
   "name": "python",
   "nbconvert_exporter": "python",
   "pygments_lexer": "ipython3",
   "version": "3.10.2"
  }
 },
 "nbformat": 4,
 "nbformat_minor": 2
}
