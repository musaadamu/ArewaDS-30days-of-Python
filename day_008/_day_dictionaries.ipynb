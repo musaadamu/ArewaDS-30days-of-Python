{
 "cells": [
  {
   "cell_type": "code",
   "execution_count": 1,
   "metadata": {},
   "outputs": [],
   "source": [
    "# 1. Create  an empty dictionary called dog\n",
    "dct = {}\n",
    "dct2 = dict()"
   ]
  },
  {
   "cell_type": "code",
   "execution_count": 2,
   "metadata": {},
   "outputs": [],
   "source": [
    "# 2. Add name, color, breed, legs, age to the dog dictionary\n",
    "dct = { \"name\": \"puppy\", \"color\": \"maroon\", \"bread\": \"american-native\", \"legs\": 4, \"age\": 2}"
   ]
  },
  {
   "cell_type": "code",
   "execution_count": 3,
   "metadata": {},
   "outputs": [],
   "source": [
    "# 3. Create a student dictionary and add first_name, last_name, gender, age, marital status, skills, country, city and address as keys for the dictionary\n",
    "student = { \n",
    "           \"firstname\": \"Mohammed\",\n",
    "           \"lastname\": \"Usman\",\n",
    "           \"gender\": \"Male\",\n",
    "           \"age\": 20,\n",
    "           \"maritalstatus\": \"married\",\n",
    "           \"skills\": [\"Java\", \"Python\", \"Ruby\", \"Javacript\"],\n",
    "           \"country\": \"Nigeria\",\n",
    "           \"city\": \"Potiskum\",\n",
    "           \"address\": [\n",
    "               {\"town\": \"Potiskum\"},\n",
    "               {\"location\": \"Anguwan Bolewa\"}\n",
    "            ]\n",
    "           \n",
    "           }"
   ]
  },
  {
   "cell_type": "code",
   "execution_count": 4,
   "metadata": {},
   "outputs": [
    {
     "name": "stdout",
     "output_type": "stream",
     "text": [
      "9\n"
     ]
    }
   ],
   "source": [
    "# 4. Get the length of the student dictionary\n",
    "print(len(student))"
   ]
  },
  {
   "cell_type": "code",
   "execution_count": 5,
   "metadata": {},
   "outputs": [
    {
     "name": "stdout",
     "output_type": "stream",
     "text": [
      "['Java', 'Python', 'Ruby', 'Javacript']\n",
      "<class 'list'>\n"
     ]
    }
   ],
   "source": [
    "# 5. Get the value of skills and check the data type, it should be a list\n",
    "student_skills = student[\"skills\"]\n",
    "print(student_skills)\n",
    "print(type(student_skills))"
   ]
  },
  {
   "cell_type": "code",
   "execution_count": 6,
   "metadata": {},
   "outputs": [],
   "source": [
    "# 6. 6. Modify the skills values by adding one or two skills\n",
    "modified_student_skills = student[\"skills\"].append(\"MongoDB\")\n",
    "modified_student_skills = student[\"skills\"].append(\"Reactjs\")\n"
   ]
  },
  {
   "cell_type": "code",
   "execution_count": 7,
   "metadata": {},
   "outputs": [
    {
     "data": {
      "text/plain": [
       "dict_keys(['firstname', 'lastname', 'gender', 'age', 'maritalstatus', 'skills', 'country', 'city', 'address'])"
      ]
     },
     "execution_count": 7,
     "metadata": {},
     "output_type": "execute_result"
    }
   ],
   "source": [
    "# 7. Get the dictionary keys as a list\n",
    "student.keys()"
   ]
  },
  {
   "cell_type": "code",
   "execution_count": 8,
   "metadata": {},
   "outputs": [
    {
     "data": {
      "text/plain": [
       "dict_values(['Mohammed', 'Usman', 'Male', 20, 'married', ['Java', 'Python', 'Ruby', 'Javacript', 'MongoDB', 'Reactjs'], 'Nigeria', 'Potiskum', [{'town': 'Potiskum'}, {'location': 'Anguwan Bolewa'}]])"
      ]
     },
     "execution_count": 8,
     "metadata": {},
     "output_type": "execute_result"
    }
   ],
   "source": [
    "# 8. Get the dictionary values as a list\n",
    "student.values()"
   ]
  },
  {
   "cell_type": "code",
   "execution_count": 9,
   "metadata": {},
   "outputs": [
    {
     "data": {
      "text/plain": [
       "dict_items([('firstname', 'Mohammed'), ('lastname', 'Usman'), ('gender', 'Male'), ('age', 20), ('maritalstatus', 'married'), ('skills', ['Java', 'Python', 'Ruby', 'Javacript', 'MongoDB', 'Reactjs']), ('country', 'Nigeria'), ('city', 'Potiskum'), ('address', [{'town': 'Potiskum'}, {'location': 'Anguwan Bolewa'}])])"
      ]
     },
     "execution_count": 9,
     "metadata": {},
     "output_type": "execute_result"
    }
   ],
   "source": [
    "# 9. Change the dictionary to a list of tuples using _items()_ method\n",
    "student.items()"
   ]
  },
  {
   "cell_type": "code",
   "execution_count": 10,
   "metadata": {},
   "outputs": [],
   "source": [
    "# 10. Delete one of the items in the dictionary\n",
    "del student[\"lastname\"]"
   ]
  },
  {
   "cell_type": "code",
   "execution_count": 11,
   "metadata": {},
   "outputs": [
    {
     "data": {
      "text/plain": [
       "{'firstname': 'Mohammed',\n",
       " 'gender': 'Male',\n",
       " 'age': 20,\n",
       " 'maritalstatus': 'married',\n",
       " 'skills': ['Java', 'Python', 'Ruby', 'Javacript', 'MongoDB', 'Reactjs'],\n",
       " 'country': 'Nigeria',\n",
       " 'city': 'Potiskum',\n",
       " 'address': [{'town': 'Potiskum'}, {'location': 'Anguwan Bolewa'}]}"
      ]
     },
     "execution_count": 11,
     "metadata": {},
     "output_type": "execute_result"
    }
   ],
   "source": [
    "student"
   ]
  },
  {
   "cell_type": "code",
   "execution_count": 12,
   "metadata": {},
   "outputs": [],
   "source": [
    "# 11. Delete one of the dictionaries\n",
    "del dct"
   ]
  }
 ],
 "metadata": {
  "kernelspec": {
   "display_name": "anprsys",
   "language": "python",
   "name": "python3"
  },
  "language_info": {
   "codemirror_mode": {
    "name": "ipython",
    "version": 3
   },
   "file_extension": ".py",
   "mimetype": "text/x-python",
   "name": "python",
   "nbconvert_exporter": "python",
   "pygments_lexer": "ipython3",
   "version": "3.10.2"
  }
 },
 "nbformat": 4,
 "nbformat_minor": 2
}
