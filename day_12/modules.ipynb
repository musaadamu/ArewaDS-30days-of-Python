{
 "cells": [
  {
   "cell_type": "code",
   "execution_count": 13,
   "metadata": {},
   "outputs": [
    {
     "name": "stdout",
     "output_type": "stream",
     "text": [
      "lXDnhu\n",
      "9yaVBD\n"
     ]
    }
   ],
   "source": [
    "# Writ a function which generates a six digit/character random_user_id.\n",
    "import random\n",
    "import string\n",
    "\n",
    "def generate_random_user_id():\n",
    "    characters = string.ascii_letters + string.digits\n",
    "    user_id = ''.join(random.choices(characters, k=6))\n",
    "    return user_id\n",
    "\n",
    "print(generate_random_user_id())  # Output: something like 'e3R9D7'\n",
    "print(generate_random_user_id())  # Output: something like 'x8Y2aF'"
   ]
  },
  {
   "cell_type": "code",
   "execution_count": 1,
   "metadata": {},
   "outputs": [],
   "source": [
    "import random\n",
    "import string\n",
    "\n",
    "def user_id_gen_by_user():\n",
    "    num_characters = int(input(\"Enter the number of characters for the user ID: \"))\n",
    "    num_ids = int(input(\"Enter the number of IDs to generate: \"))\n",
    "\n",
    "    user_ids = []\n",
    "    characters = string.ascii_letters + string.digits\n",
    "\n",
    "    for _ in range(num_ids):\n",
    "        user_id = ''.join(random.choices(characters, k=num_characters))\n",
    "        user_ids.append(user_id)\n",
    "\n",
    "    return user_ids\n",
    "\n",
    "# generated_ids = user_id_gen_by_user()\n",
    "\n",
    "#for user_id in generated_ids:\n",
    "#    print(user_id)\n",
    "\n",
    "#or \n",
    "\n",
    "print(user_id_gen_by_user()) # user input: 5 5"
   ]
  },
  {
   "cell_type": "code",
   "execution_count": 5,
   "metadata": {},
   "outputs": [
    {
     "name": "stdout",
     "output_type": "stream",
     "text": [
      "(153, 221, 38)\n"
     ]
    }
   ],
   "source": [
    "# Write a function named rgb_color_gen. It will generate rgb colors (3 values ranging from 0 to 255 each).\n",
    "\n",
    "import random\n",
    "\n",
    "def rgb_color_gen():\n",
    "    red = random.randint(0, 255)\n",
    "    green = random.randint(0, 255)\n",
    "    blue = random.randint(0, 255)\n",
    "\n",
    "    return red, green, blue\n",
    "\n",
    "\n",
    "color = rgb_color_gen()\n",
    "print(color)  # Output: (123, 45, 67) (example RGB values)\n",
    "\n"
   ]
  },
  {
   "cell_type": "markdown",
   "metadata": {},
   "source": [
    "### Exercises: Level 2"
   ]
  },
  {
   "cell_type": "code",
   "execution_count": 6,
   "metadata": {},
   "outputs": [
    {
     "name": "stdout",
     "output_type": "stream",
     "text": [
      "['#F73EF4', '#11A14F', '#1A1FF9', '#B9682D', '#4FE322']\n"
     ]
    }
   ],
   "source": [
    "\"\"\"\n",
    "Write a function list_of_hexa_colors which returns any number of hexadecimal colors in an array\n",
    "(six hexadecimal numbers written after #. Hexadecimal numeral system is made out of 16 symbols,\n",
    "0-9 and first 6 letters of the alphabet, a-f. Check the task 6 for output examples).\n",
    "\"\"\"\n",
    "import random\n",
    "\n",
    "def list_of_hexa_colors(num_colors):\n",
    "    hex_colors = []\n",
    "    \n",
    "    for _ in range(num_colors):\n",
    "        color = ''.join(random.choices('0123456789ABCDEF', k=6))\n",
    "        hex_colors.append('#' + color)\n",
    "    \n",
    "    return hex_colors\n",
    "\n",
    "colors = list_of_hexa_colors(5)\n",
    "print(colors)  # Output: ['#1A2F4B', '#FFA0C2', '#8D67E9', '#5B9C0F', '#CDE456']"
   ]
  },
  {
   "cell_type": "code",
   "execution_count": 8,
   "metadata": {},
   "outputs": [
    {
     "name": "stdout",
     "output_type": "stream",
     "text": [
      "[(140, 209, 100), (11, 46, 195), (67, 176, 155), (155, 11, 159), (42, 11, 38)]\n"
     ]
    }
   ],
   "source": [
    "# Write a function list_of_rgb_colors which returns any number of RGB colors in an array.\n",
    "\n",
    "import random\n",
    "\n",
    "def list_of_rgb_colors(num_colors):\n",
    "    rgb_colors = []\n",
    "    \n",
    "    for _ in range(num_colors):\n",
    "        red = random.randint(0, 255)\n",
    "        green = random.randint(0, 255)\n",
    "        blue = random.randint(0, 255)\n",
    "        color = (red, green, blue)\n",
    "        rgb_colors.append(color)\n",
    "    \n",
    "    return rgb_colors\n",
    "\n",
    "colors = list_of_rgb_colors(5)\n",
    "print(colors)  # Output: [(123, 45, 67), (12, 34, 56), (78, 90, 123), (234, 56, 78), (45, 67, 89)]"
   ]
  },
  {
   "cell_type": "code",
   "execution_count": 10,
   "metadata": {},
   "outputs": [
    {
     "name": "stdout",
     "output_type": "stream",
     "text": [
      "['#D169FE', '#BACBC7', '#BE9526', '#626443', '#DB22CA']\n",
      "[(51, 215, 245), (244, 23, 191), (244, 101, 108)]\n"
     ]
    }
   ],
   "source": [
    "import random\n",
    "\n",
    "def generate_colors(num_colors, color_format):\n",
    "    colors = []\n",
    "    \n",
    "    for _ in range(num_colors):\n",
    "        if color_format == 'hexa':\n",
    "            color = generate_hexa_color()\n",
    "        elif color_format == 'rgb':\n",
    "            color = generate_rgb_color()\n",
    "        else:\n",
    "            raise ValueError(\"Invalid color format. Please choose 'hexa' or 'rgb'.\")\n",
    "        \n",
    "        colors.append(color)\n",
    "    \n",
    "    return colors\n",
    "\n",
    "def generate_hexa_color():\n",
    "    color = '#' + ''.join(random.choices('0123456789ABCDEF', k=6))\n",
    "    return color\n",
    "\n",
    "def generate_rgb_color():\n",
    "    red = random.randint(0, 255)\n",
    "    green = random.randint(0, 255)\n",
    "    blue = random.randint(0, 255)\n",
    "    color = (red, green, blue)\n",
    "    return color\n",
    "\n",
    "hexa_colors = generate_colors(5, 'hexa')\n",
    "print(hexa_colors)  # Output: ['#1A2F4B', '#FFA0C2', '#8D67E9', '#5B9C0F', '#CDE456']\n",
    "\n",
    "rgb_colors = generate_colors(3, 'rgb')\n",
    "print(rgb_colors)  # Output: [(123, 45, 67), (12, 34, 56), (78, 90, 123)]"
   ]
  },
  {
   "cell_type": "markdown",
   "metadata": {},
   "source": [
    "### Exercises: Level 3"
   ]
  },
  {
   "cell_type": "code",
   "execution_count": 17,
   "metadata": {},
   "outputs": [
    {
     "name": "stdout",
     "output_type": "stream",
     "text": [
      "[1, 5, 4, 2, 3]\n"
     ]
    }
   ],
   "source": [
    "# Call your function shuffle_list, it takes a list as a parameter and it returns a shuffled list\n",
    "\n",
    "import random\n",
    "\n",
    "def shuffle_list(lst):\n",
    "    shuffled_list = lst.copy()\n",
    "    random.shuffle(shuffled_list)\n",
    "    return shuffled_list\n",
    "my_list = [1, 2, 3, 4, 5]\n",
    "\n",
    "shuffled = shuffle_list(my_list)\n",
    "print(shuffled)"
   ]
  },
  {
   "cell_type": "code",
   "execution_count": 22,
   "metadata": {},
   "outputs": [
    {
     "name": "stdout",
     "output_type": "stream",
     "text": [
      "[1, 2, 6, 4, 9, 0, 5]\n"
     ]
    }
   ],
   "source": [
    "# Write a function which returns an array of seven random numbers in a range of 0-9. All the numbers must be unique.\n",
    "\n",
    "import random\n",
    "\n",
    "def generate_unique_numbers():\n",
    "    numbers = random.sample(range(10), 7)\n",
    "    return numbers\n",
    "\n",
    "random_numbers = generate_unique_numbers()\n",
    "print(random_numbers)"
   ]
  }
 ],
 "metadata": {
  "kernelspec": {
   "display_name": "anprsys",
   "language": "python",
   "name": "python3"
  },
  "language_info": {
   "codemirror_mode": {
    "name": "ipython",
    "version": 3
   },
   "file_extension": ".py",
   "mimetype": "text/x-python",
   "name": "python",
   "nbconvert_exporter": "python",
   "pygments_lexer": "ipython3",
   "version": "3.10.2"
  }
 },
 "nbformat": 4,
 "nbformat_minor": 2
}
