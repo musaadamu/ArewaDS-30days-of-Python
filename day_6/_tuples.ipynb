{
 "cells": [
  {
   "cell_type": "code",
   "execution_count": 13,
   "metadata": {},
   "outputs": [],
   "source": [
    "# 1. Create an empty tuple\n",
    "tpl = ()\n",
    "tpl_empty = tuple()"
   ]
  },
  {
   "cell_type": "code",
   "execution_count": 14,
   "metadata": {},
   "outputs": [],
   "source": [
    "# 2. Create a tuple containing names of your sisters and your brothers (imaginary siblings are fine)\n",
    "tpl_brothers = ('Ahmad', 'Maryam', 'Mohammed', 'Abubakar', 'Amina', 'Adamu')\n",
    "tpl_sisters = ('Maryam', 'Amina', 'Maimuna', 'Suwaiba')\n"
   ]
  },
  {
   "cell_type": "code",
   "execution_count": 15,
   "metadata": {},
   "outputs": [
    {
     "name": "stdout",
     "output_type": "stream",
     "text": [
      "('Ahmad', 'Maryam', 'Mohammed', 'Abubakar', 'Amina', 'Adamu', 'Maryam', 'Amina', 'Maimuna', 'Suwaiba')\n"
     ]
    }
   ],
   "source": [
    "# 3. Join brothers and sisters tuples and assign it to siblings\n",
    "tpl_siblings = tpl_brothers + tpl_sisters\n",
    "print(tpl_siblings)"
   ]
  },
  {
   "cell_type": "code",
   "execution_count": 16,
   "metadata": {},
   "outputs": [
    {
     "data": {
      "text/plain": [
       "10"
      ]
     },
     "execution_count": 16,
     "metadata": {},
     "output_type": "execute_result"
    }
   ],
   "source": [
    "# 4. How many siblings do you have?\n",
    "len(tpl_siblings)"
   ]
  },
  {
   "cell_type": "code",
   "execution_count": 17,
   "metadata": {},
   "outputs": [
    {
     "data": {
      "text/plain": [
       "('Ahmad',\n",
       " 'Maryam',\n",
       " 'Mohammed',\n",
       " 'Abubakar',\n",
       " 'Amina',\n",
       " 'Adamu',\n",
       " 'Maryam',\n",
       " 'Amina',\n",
       " 'Maimuna',\n",
       " 'Suwaiba',\n",
       " 'Abubakar',\n",
       " 'Amina')"
      ]
     },
     "execution_count": 17,
     "metadata": {},
     "output_type": "execute_result"
    }
   ],
   "source": [
    "# 5. Modify the siblings tuple and add the name of your father and mother and assign it to family_members\n",
    "tpl_parents = ('Abubakar', 'Amina')\n",
    "tpl_family_members = tpl_siblings + tpl_parents\n",
    "tpl_family_members\n"
   ]
  },
  {
   "cell_type": "markdown",
   "metadata": {},
   "source": [
    "### Exercises: Level 2"
   ]
  },
  {
   "cell_type": "code",
   "execution_count": 18,
   "metadata": {},
   "outputs": [
    {
     "name": "stdout",
     "output_type": "stream",
     "text": [
      "('Ahmad', 'Maryam', 'Mohammed', 'Abubakar', 'Amina', 'Adamu', 'Maryam', 'Amina', 'Maimuna', 'Suwaiba')\n",
      "('Abubakar', 'Amina')\n"
     ]
    }
   ],
   "source": [
    "# 1. Unpack siblings and parents from family_members\n",
    "siblings =tpl_family_members[ 0 : 10]\n",
    "parents = tpl_family_members[ -2:]\n",
    "print(siblings)\n",
    "print(parents)"
   ]
  },
  {
   "cell_type": "code",
   "execution_count": 19,
   "metadata": {},
   "outputs": [
    {
     "data": {
      "text/plain": [
       "('mango', 'banana', 'salad', 'green leaf', 'dog', 'goat')"
      ]
     },
     "execution_count": 19,
     "metadata": {},
     "output_type": "execute_result"
    }
   ],
   "source": [
    "# 1. Create fruits, vegetables and animal products tuples. Join the three tuples and assign it to a variable called food_stuff_tp.\n",
    "fruits = ('mango', 'banana')\n",
    "vegetables = ('salad', 'green leaf')\n",
    "animals = ('dog', 'goat')\n",
    "food_stuff = fruits + vegetables + animals\n",
    "food_stuff"
   ]
  },
  {
   "cell_type": "code",
   "execution_count": 20,
   "metadata": {},
   "outputs": [
    {
     "data": {
      "text/plain": [
       "['mango', 'banana', 'salad', 'green leaf', 'dog', 'goat']"
      ]
     },
     "execution_count": 20,
     "metadata": {},
     "output_type": "execute_result"
    }
   ],
   "source": [
    "# Change the about food_stuff_tp  tuple to a food_stuff_lt list\n",
    "food_stuff_lt = list(food_stuff) \n",
    "food_stuff_lt"
   ]
  },
  {
   "cell_type": "code",
   "execution_count": 21,
   "metadata": {},
   "outputs": [
    {
     "data": {
      "text/plain": [
       "['salad', 'green leaf']"
      ]
     },
     "execution_count": 21,
     "metadata": {},
     "output_type": "execute_result"
    }
   ],
   "source": [
    "#  Slice out the middle item or items from the food_stuff_tp tuple or food_stuff_lt list.\n",
    "len(food_stuff_lt)\n",
    "food_stuff_lt_md = food_stuff_lt[2:4]\n",
    "food_stuff_lt_md"
   ]
  },
  {
   "cell_type": "code",
   "execution_count": 22,
   "metadata": {},
   "outputs": [
    {
     "name": "stdout",
     "output_type": "stream",
     "text": [
      "['mango', 'banana', 'salad']\n",
      "['green leaf', 'dog', 'goat']\n"
     ]
    }
   ],
   "source": [
    "# 1. Slice out the first three items and the last three items from food_staff_lt list\n",
    "food_stuff_lt_f3 = food_stuff_lt[0:3]\n",
    "food_stuff_lt_l3 = food_stuff_lt[-3:]\n",
    "print(food_stuff_lt_f3)\n",
    "print(food_stuff_lt_l3)"
   ]
  },
  {
   "cell_type": "code",
   "execution_count": 23,
   "metadata": {},
   "outputs": [],
   "source": [
    "# Delete the food_staff_tp tuple completely\n",
    "del food_stuff_lt"
   ]
  },
  {
   "cell_type": "code",
   "execution_count": 24,
   "metadata": {},
   "outputs": [
    {
     "ename": "NameError",
     "evalue": "name 'food_stuff_lt' is not defined",
     "output_type": "error",
     "traceback": [
      "\u001b[1;31m---------------------------------------------------------------------------\u001b[0m",
      "\u001b[1;31mNameError\u001b[0m                                 Traceback (most recent call last)",
      "\u001b[1;32mc:\\Users\\hp\\Desktop\\Arewa Data Science 2023\\ArewaDS-30days-of-Python\\day_6\\_tuples.ipynb Cell 13\u001b[0m line \u001b[0;36m<cell line: 2>\u001b[1;34m()\u001b[0m\n\u001b[0;32m      <a href='vscode-notebook-cell:/c%3A/Users/hp/Desktop/Arewa%20Data%20Science%202023/ArewaDS-30days-of-Python/day_6/_tuples.ipynb#X16sZmlsZQ%3D%3D?line=0'>1</a>\u001b[0m \u001b[39m# Check if an item exists in  tuple:\u001b[39;00m\n\u001b[1;32m----> <a href='vscode-notebook-cell:/c%3A/Users/hp/Desktop/Arewa%20Data%20Science%202023/ArewaDS-30days-of-Python/day_6/_tuples.ipynb#X16sZmlsZQ%3D%3D?line=1'>2</a>\u001b[0m item_exist \u001b[39m=\u001b[39m \u001b[39m'\u001b[39m\u001b[39mmango\u001b[39m\u001b[39m'\u001b[39m \u001b[39min\u001b[39;00m food_stuff_lt\n\u001b[0;32m      <a href='vscode-notebook-cell:/c%3A/Users/hp/Desktop/Arewa%20Data%20Science%202023/ArewaDS-30days-of-Python/day_6/_tuples.ipynb#X16sZmlsZQ%3D%3D?line=2'>3</a>\u001b[0m item_exist\n",
      "\u001b[1;31mNameError\u001b[0m: name 'food_stuff_lt' is not defined"
     ]
    }
   ],
   "source": [
    " # Check if an item exists in  tuple:\n",
    " item_exist = 'mango' in food_stuff_lt\n",
    " item_exist"
   ]
  },
  {
   "cell_type": "code",
   "execution_count": null,
   "metadata": {},
   "outputs": [
    {
     "name": "stdout",
     "output_type": "stream",
     "text": [
      "False\n",
      "True\n"
     ]
    }
   ],
   "source": [
    "# - Check if 'Estonia' is a nordic country\n",
    "# - Check if 'Iceland' is a nordic country\n",
    "nordic_countries = ('Denmark', 'Finland','Iceland', 'Norway', 'Sweden')\n",
    "country_exist = 'Estonia' in nordic_countries\n",
    "country_exist2 = 'Iceland' in nordic_countries\n",
    "print(country_exist)\n",
    "print(country_exist2)"
   ]
  }
 ],
 "metadata": {
  "kernelspec": {
   "display_name": "anprsys",
   "language": "python",
   "name": "python3"
  },
  "language_info": {
   "codemirror_mode": {
    "name": "ipython",
    "version": 3
   },
   "file_extension": ".py",
   "mimetype": "text/x-python",
   "name": "python",
   "nbconvert_exporter": "python",
   "pygments_lexer": "ipython3",
   "version": "3.10.2"
  }
 },
 "nbformat": 4,
 "nbformat_minor": 2
}
