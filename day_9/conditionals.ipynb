{
 "cells": [
  {
   "cell_type": "code",
   "execution_count": null,
   "metadata": {},
   "outputs": [],
   "source": [
    "1. \"\"\"  Get user input using input(“Enter your age: ”). If user is 18 or older, give feedback: You are old enough to drive. If below 18 give feedback to wait for the missing amount of years. Output:\n",
    "    ```sh\n",
    "    Enter your age: 30\n",
    "    You are old enough to learn to drive.\n",
    "    Output:\n",
    "    Enter your age: 15\n",
    "    You need 3 more years to learn to drive. \"\"\"\n",
    "user_age = int(input(\"Enter your age: \"))\n",
    "if user_age >= 18:\n",
    "    print(\"You are old enough to drive\")\n",
    "else:\n",
    "    print(\"You are {} more years to learn to drive\".format(18-user_age))"
   ]
  },
  {
   "cell_type": "code",
   "execution_count": null,
   "metadata": {},
   "outputs": [],
   "source": [
    "\"\"\"\n",
    "2.  Compare the values of my_age and your_age using if … else. Who is older (me or you)? Use input(“Enter your age: ”) \n",
    "to get the age as input. You can use a nested condition to print 'year' for 1 year difference in age, 'years' \n",
    "for bigger differences, and a custom text if my_age = your_age. Output:\n",
    "    ```sh\n",
    "    Enter your age: 30\n",
    "    You are 5 years older than me.\n",
    "    ```\n",
    "\"\"\"\n",
    "my_age = int(input(\"Enter your age: \"))\n",
    "your_age = int(input(\"Enter your age: \"))\n",
    "\n",
    "if abs(my_age - your_age) == 1:\n",
    "    print(\"You are a year older than me or I am a year older than you\")\n",
    "elif abs(my_age - your_age) > 1:\n",
    "    print(\"You are years older than me or I am years older than you\")\n",
    "else:\n",
    "    print(\"What a coincidence!\")\n",
    "\n",
    "    "
   ]
  },
  {
   "cell_type": "code",
   "execution_count": null,
   "metadata": {},
   "outputs": [],
   "source": [
    "\"\"\"\n",
    ".  Get two numbers from the user using input prompt. If a is greater than b return a is greater than b, if a is less b \n",
    "return a is smaller than b, else a is equal to b. Output:\n",
    "\n",
    "```sh\n",
    "Enter number one: 4\n",
    "Enter number two: 3\n",
    "4 is greater than 3\n",
    "```\n",
    "\"\"\"\n",
    "a = int(input(\"Enter a number: \"))\n",
    "b = int(input(\"Enter a number: \"))\n",
    "if a > b: \n",
    "    print(\"{} is greater than {}\".format(a,b))\n",
    "elif a < b:\n",
    "    print(\"{} is smaller than {}\". format(a,b))\n",
    "else:\n",
    "    print(\"{} is equal to {}\".format(a,b))"
   ]
  },
  {
   "cell_type": "markdown",
   "metadata": {},
   "source": [
    " ### Exercises: Level 2\n"
   ]
  },
  {
   "cell_type": "code",
   "execution_count": 6,
   "metadata": {},
   "outputs": [
    {
     "name": "stdout",
     "output_type": "stream",
     "text": [
      "You scored C\n"
     ]
    }
   ],
   "source": [
    "\"\"\"\n",
    "1. Write a code which gives grade to students according to theirs scores:\n",
    "   \n",
    "        ```sh\n",
    "        80-100, A\n",
    "        70-89, B\n",
    "        60-69, C\n",
    "        50-59, D\n",
    "        0-49, F\n",
    "        ```\n",
    "\"\"\"\n",
    "scores = int(input(\"Enter your scores: \"))\n",
    "\n",
    "if scores >= 80:\n",
    "    print(\"You scored A\")\n",
    "elif 70 <= scores < 80:\n",
    "    print(\"You scored B\")\n",
    "elif 60 <= scores < 70:\n",
    "    print(\"You scored C\")\n",
    "elif 50 <= scores < 60:\n",
    "    print(\"You scored D\")\n",
    "else:\n",
    "    print(\"You scored F\")"
   ]
  }
 ],
 "metadata": {
  "kernelspec": {
   "display_name": "anprsys",
   "language": "python",
   "name": "python3"
  },
  "language_info": {
   "codemirror_mode": {
    "name": "ipython",
    "version": 3
   },
   "file_extension": ".py",
   "mimetype": "text/x-python",
   "name": "python",
   "nbconvert_exporter": "python",
   "pygments_lexer": "ipython3",
   "version": "3.10.2"
  }
 },
 "nbformat": 4,
 "nbformat_minor": 2
}
