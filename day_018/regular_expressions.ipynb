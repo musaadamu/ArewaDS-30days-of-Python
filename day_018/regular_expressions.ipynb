{
 "cells": [
  {
   "cell_type": "code",
   "execution_count": 1,
   "metadata": {},
   "outputs": [
    {
     "name": "stdout",
     "output_type": "stream",
     "text": [
      "Most Frequent Word: love\n"
     ]
    }
   ],
   "source": [
    "import re\n",
    "\n",
    "paragraph = 'I love teaching. If you do not love teaching what else can you love. I love Python if you do not love something which can give you all the capabilities to develop an application what else can you love.'\n",
    "\n",
    "# Remove punctuation and convert the paragraph to lowercase\n",
    "cleaned_paragraph = re.sub(r'[^\\w\\s]', '', paragraph.lower())\n",
    "\n",
    "# Find all the words in the paragraph\n",
    "words = re.findall(r'\\b\\w+\\b', cleaned_paragraph)\n",
    "\n",
    "# Create a dictionary to store the frequency count of each word\n",
    "word_frequency = {}\n",
    "\n",
    "# Update the frequency count using regex functions\n",
    "for word in words:\n",
    "    word_frequency[word] = word_frequency.get(word, 0) + 1\n",
    "\n",
    "# Find the most frequent word using regex functions\n",
    "most_frequent_word = max(word_frequency, key=word_frequency.get)\n",
    "\n",
    "print(\"Most Frequent Word:\", most_frequent_word)"
   ]
  },
  {
   "cell_type": "code",
   "execution_count": 3,
   "metadata": {},
   "outputs": [
    {
     "name": "stdout",
     "output_type": "stream",
     "text": [
      "Distance between the furthest particles: 20\n"
     ]
    }
   ],
   "source": [
    "import re\n",
    "\n",
    "text = \"The position of some particles on the horizontal x-axis are -12, -4, -3 and -1 in the negative direction, 0 at origin, 4 and 8 in the positive direction.\"\n",
    "\n",
    "# Extract the numbers from the text using regex\n",
    "numbers = re.findall(r'-?\\d+', text)\n",
    "\n",
    "# Convert the extracted numbers to integers\n",
    "numbers = [int(num) for num in numbers]\n",
    "\n",
    "# Sort the numbers in ascending order\n",
    "sorted_points = sorted(numbers)\n",
    "\n",
    "# Calculate the distance between the two furthest particles\n",
    "distance = sorted_points[-1] - sorted_points[0]\n",
    "\n",
    "print(\"Distance between the furthest particles:\", distance)"
   ]
  },
  {
   "cell_type": "markdown",
   "metadata": {},
   "source": [
    "### Exercises: Level 2"
   ]
  },
  {
   "cell_type": "code",
   "execution_count": 5,
   "metadata": {},
   "outputs": [
    {
     "name": "stdout",
     "output_type": "stream",
     "text": [
      "True\n",
      "False\n",
      "False\n",
      "True\n"
     ]
    }
   ],
   "source": [
    "import re\n",
    "\n",
    "def is_valid_variable(variable):\n",
    "    pattern = r'^[a-zA-Z_][a-zA-Z0-9_]*$'\n",
    "    return re.match(pattern, variable) is not None\n",
    "\n",
    "print(is_valid_variable('first_name'))   # True\n",
    "print(is_valid_variable('first-name'))   # False\n",
    "print(is_valid_variable('1first_name'))  # False\n",
    "print(is_valid_variable('firstname'))    # True"
   ]
  },
  {
   "cell_type": "markdown",
   "metadata": {},
   "source": [
    "### Exercises: Level 3"
   ]
  },
  {
   "cell_type": "code",
   "execution_count": 7,
   "metadata": {},
   "outputs": [
    {
     "name": "stdout",
     "output_type": "stream",
     "text": [
      "Cleaned Text: i am a teacher and i love teaching there is nothing as more rewarding as educating and empowering people i found teaching more interesting than any other jobs does this motivate you to be a teacher\n",
      "Three most frequent words:\n",
      "3: i\n",
      "2: a\n",
      "2: teacher\n"
     ]
    }
   ],
   "source": [
    "import re\n",
    "from collections import Counter\n",
    "\n",
    "def clean_text(text):\n",
    "    cleaned_text = re.sub(r'[^a-zA-Z\\s]', '', text.lower())\n",
    "    cleaned_text = re.sub(r'\\s+', ' ', cleaned_text)\n",
    "    return cleaned_text.strip()\n",
    "\n",
    "def most_frequent_words(text, count=3):\n",
    "    words = text.split()\n",
    "    word_counts = Counter(words)\n",
    "    return word_counts.most_common(count)\n",
    "\n",
    "sentence = '''%I $am@% a %tea@cher%, &and& I lo%#ve %tea@ching%;. There $is nothing; &as& mo@re rewarding as educa@ting &and& @emp%o@wering peo@ple. ;I found tea@ching m%o@re interesting tha@n any other %jo@bs. %Do@es thi%s mo@tivate yo@u to be a tea@cher!?'''\n",
    "\n",
    "cleaned_text = clean_text(sentence)\n",
    "print(\"Cleaned Text:\", cleaned_text)\n",
    "\n",
    "most_frequent = most_frequent_words(cleaned_text)\n",
    "print(\"Three most frequent words:\")\n",
    "for count, word in most_frequent:\n",
    "    print(f\"{word}: {count}\")"
   ]
  }
 ],
 "metadata": {
  "kernelspec": {
   "display_name": "anprsys",
   "language": "python",
   "name": "python3"
  },
  "language_info": {
   "codemirror_mode": {
    "name": "ipython",
    "version": 3
   },
   "file_extension": ".py",
   "mimetype": "text/x-python",
   "name": "python",
   "nbconvert_exporter": "python",
   "pygments_lexer": "ipython3",
   "version": "3.10.2"
  }
 },
 "nbformat": 4,
 "nbformat_minor": 2
}
